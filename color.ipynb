{
 "cells": [
  {
   "cell_type": "code",
   "execution_count": 1,
   "metadata": {},
   "outputs": [],
   "source": [
    "import cv2\n",
    "import matplotlib.pyplot as plt"
   ]
  },
  {
   "cell_type": "code",
   "execution_count": 2,
   "metadata": {},
   "outputs": [],
   "source": [
    "import pandas as pd"
   ]
  },
  {
   "cell_type": "code",
   "execution_count": 3,
   "metadata": {},
   "outputs": [],
   "source": [
    "df=pd.read_csv('colors.csv',header=None)"
   ]
  },
  {
   "cell_type": "code",
   "execution_count": 4,
   "metadata": {},
   "outputs": [
    {
     "output_type": "execute_result",
     "data": {
      "text/plain": "                      0                      1        2    3    4    5\n0    air_force_blue_raf   Air Force Blue (Raf)  #5d8aa8   93  138  168\n1   air_force_blue_usaf  Air Force Blue (Usaf)  #00308f    0   48  143\n2  air_superiority_blue   Air Superiority Blue  #72a0c1  114  160  193\n3       alabama_crimson        Alabama Crimson  #a32638  163   38   56\n4            alice_blue             Alice Blue  #f0f8ff  240  248  255",
      "text/html": "<div>\n<style scoped>\n    .dataframe tbody tr th:only-of-type {\n        vertical-align: middle;\n    }\n\n    .dataframe tbody tr th {\n        vertical-align: top;\n    }\n\n    .dataframe thead th {\n        text-align: right;\n    }\n</style>\n<table border=\"1\" class=\"dataframe\">\n  <thead>\n    <tr style=\"text-align: right;\">\n      <th></th>\n      <th>0</th>\n      <th>1</th>\n      <th>2</th>\n      <th>3</th>\n      <th>4</th>\n      <th>5</th>\n    </tr>\n  </thead>\n  <tbody>\n    <tr>\n      <th>0</th>\n      <td>air_force_blue_raf</td>\n      <td>Air Force Blue (Raf)</td>\n      <td>#5d8aa8</td>\n      <td>93</td>\n      <td>138</td>\n      <td>168</td>\n    </tr>\n    <tr>\n      <th>1</th>\n      <td>air_force_blue_usaf</td>\n      <td>Air Force Blue (Usaf)</td>\n      <td>#00308f</td>\n      <td>0</td>\n      <td>48</td>\n      <td>143</td>\n    </tr>\n    <tr>\n      <th>2</th>\n      <td>air_superiority_blue</td>\n      <td>Air Superiority Blue</td>\n      <td>#72a0c1</td>\n      <td>114</td>\n      <td>160</td>\n      <td>193</td>\n    </tr>\n    <tr>\n      <th>3</th>\n      <td>alabama_crimson</td>\n      <td>Alabama Crimson</td>\n      <td>#a32638</td>\n      <td>163</td>\n      <td>38</td>\n      <td>56</td>\n    </tr>\n    <tr>\n      <th>4</th>\n      <td>alice_blue</td>\n      <td>Alice Blue</td>\n      <td>#f0f8ff</td>\n      <td>240</td>\n      <td>248</td>\n      <td>255</td>\n    </tr>\n  </tbody>\n</table>\n</div>"
     },
     "metadata": {},
     "execution_count": 4
    }
   ],
   "source": [
    "df.head()"
   ]
  },
  {
   "cell_type": "code",
   "execution_count": 5,
   "metadata": {},
   "outputs": [],
   "source": [
    "df.columns='Color Color_real Hex R G B'.split()"
   ]
  },
  {
   "cell_type": "code",
   "execution_count": 6,
   "metadata": {},
   "outputs": [
    {
     "output_type": "execute_result",
     "data": {
      "text/plain": "                  Color             Color_real      Hex    R    G    B\n0    air_force_blue_raf   Air Force Blue (Raf)  #5d8aa8   93  138  168\n1   air_force_blue_usaf  Air Force Blue (Usaf)  #00308f    0   48  143\n2  air_superiority_blue   Air Superiority Blue  #72a0c1  114  160  193\n3       alabama_crimson        Alabama Crimson  #a32638  163   38   56\n4            alice_blue             Alice Blue  #f0f8ff  240  248  255",
      "text/html": "<div>\n<style scoped>\n    .dataframe tbody tr th:only-of-type {\n        vertical-align: middle;\n    }\n\n    .dataframe tbody tr th {\n        vertical-align: top;\n    }\n\n    .dataframe thead th {\n        text-align: right;\n    }\n</style>\n<table border=\"1\" class=\"dataframe\">\n  <thead>\n    <tr style=\"text-align: right;\">\n      <th></th>\n      <th>Color</th>\n      <th>Color_real</th>\n      <th>Hex</th>\n      <th>R</th>\n      <th>G</th>\n      <th>B</th>\n    </tr>\n  </thead>\n  <tbody>\n    <tr>\n      <th>0</th>\n      <td>air_force_blue_raf</td>\n      <td>Air Force Blue (Raf)</td>\n      <td>#5d8aa8</td>\n      <td>93</td>\n      <td>138</td>\n      <td>168</td>\n    </tr>\n    <tr>\n      <th>1</th>\n      <td>air_force_blue_usaf</td>\n      <td>Air Force Blue (Usaf)</td>\n      <td>#00308f</td>\n      <td>0</td>\n      <td>48</td>\n      <td>143</td>\n    </tr>\n    <tr>\n      <th>2</th>\n      <td>air_superiority_blue</td>\n      <td>Air Superiority Blue</td>\n      <td>#72a0c1</td>\n      <td>114</td>\n      <td>160</td>\n      <td>193</td>\n    </tr>\n    <tr>\n      <th>3</th>\n      <td>alabama_crimson</td>\n      <td>Alabama Crimson</td>\n      <td>#a32638</td>\n      <td>163</td>\n      <td>38</td>\n      <td>56</td>\n    </tr>\n    <tr>\n      <th>4</th>\n      <td>alice_blue</td>\n      <td>Alice Blue</td>\n      <td>#f0f8ff</td>\n      <td>240</td>\n      <td>248</td>\n      <td>255</td>\n    </tr>\n  </tbody>\n</table>\n</div>"
     },
     "metadata": {},
     "execution_count": 6
    }
   ],
   "source": [
    "df.head()"
   ]
  },
  {
   "cell_type": "code",
   "execution_count": 7,
   "metadata": {},
   "outputs": [
    {
     "output_type": "execute_result",
     "data": {
      "text/plain": "                  Color             Color_real      Hex    R    G    B\n0    air_force_blue_raf   Air Force Blue (Raf)  #5d8aa8   93  138  168\n1   air_force_blue_usaf  Air Force Blue (Usaf)  #00308f    0   48  143\n2  air_superiority_blue   Air Superiority Blue  #72a0c1  114  160  193\n3       alabama_crimson        Alabama Crimson  #a32638  163   38   56\n4            alice_blue             Alice Blue  #f0f8ff  240  248  255",
      "text/html": "<div>\n<style scoped>\n    .dataframe tbody tr th:only-of-type {\n        vertical-align: middle;\n    }\n\n    .dataframe tbody tr th {\n        vertical-align: top;\n    }\n\n    .dataframe thead th {\n        text-align: right;\n    }\n</style>\n<table border=\"1\" class=\"dataframe\">\n  <thead>\n    <tr style=\"text-align: right;\">\n      <th></th>\n      <th>Color</th>\n      <th>Color_real</th>\n      <th>Hex</th>\n      <th>R</th>\n      <th>G</th>\n      <th>B</th>\n    </tr>\n  </thead>\n  <tbody>\n    <tr>\n      <th>0</th>\n      <td>air_force_blue_raf</td>\n      <td>Air Force Blue (Raf)</td>\n      <td>#5d8aa8</td>\n      <td>93</td>\n      <td>138</td>\n      <td>168</td>\n    </tr>\n    <tr>\n      <th>1</th>\n      <td>air_force_blue_usaf</td>\n      <td>Air Force Blue (Usaf)</td>\n      <td>#00308f</td>\n      <td>0</td>\n      <td>48</td>\n      <td>143</td>\n    </tr>\n    <tr>\n      <th>2</th>\n      <td>air_superiority_blue</td>\n      <td>Air Superiority Blue</td>\n      <td>#72a0c1</td>\n      <td>114</td>\n      <td>160</td>\n      <td>193</td>\n    </tr>\n    <tr>\n      <th>3</th>\n      <td>alabama_crimson</td>\n      <td>Alabama Crimson</td>\n      <td>#a32638</td>\n      <td>163</td>\n      <td>38</td>\n      <td>56</td>\n    </tr>\n    <tr>\n      <th>4</th>\n      <td>alice_blue</td>\n      <td>Alice Blue</td>\n      <td>#f0f8ff</td>\n      <td>240</td>\n      <td>248</td>\n      <td>255</td>\n    </tr>\n  </tbody>\n</table>\n</div>"
     },
     "metadata": {},
     "execution_count": 7
    }
   ],
   "source": [
    "df.head()"
   ]
  },
  {
   "cell_type": "code",
   "execution_count": 8,
   "metadata": {},
   "outputs": [],
   "source": [
    "def color(r,g,b):\n",
    "    min=10000\n",
    "    for i in range(len(df)):\n",
    "        d=abs((r-int(df.iloc[i]['R'])))+abs((g-int(df.iloc[i]['G'])))+abs((b-int(df.iloc[i]['B'])))\n",
    "        if d<min:\n",
    "            min=d\n",
    "            col=df.iloc[i]['Color_real']\n",
    "    return col"
   ]
  },
  {
   "cell_type": "code",
   "execution_count": 9,
   "metadata": {},
   "outputs": [],
   "source": [
    "def image():\n",
    "    def draw_rectangle(event,x,y,flags,param):\n",
    "\n",
    "        nonlocal  pt1,topLeft_clicked\n",
    "\n",
    "        if event == cv2.EVENT_LBUTTONDOWN:\n",
    "\n",
    "            if topLeft_clicked==True:\n",
    "                topLeft_clicked=False\n",
    "                pt1=(0,0)\n",
    "            else:\n",
    "                topLeft_clicked=True\n",
    "                pt1=(x,y)\n",
    "\n",
    "    pt1 = (0,0)\n",
    "    img=cv2.imread('color-shapes.png')\n",
    "    topLeft_clicked = False\n",
    "    cv2.namedWindow('Color')\n",
    "    cv2.setMouseCallback('Color',draw_rectangle)\n",
    "    x,y=pt1\n",
    "    copy=img.copy()\n",
    "    while True:\n",
    "        if topLeft_clicked:\n",
    "            cv2.circle(copy,pt1,8,(0,0,0),-1)\n",
    "        old=cv2.cvtColor(img,cv2.COLOR_BGR2RGB)\n",
    "        r,g,b=old[pt1[::-1]]\n",
    "        color_pred=color(r,g,b)   \n",
    "        cv2.imshow('Color',copy)\n",
    "        k=cv2.waitKey(1)\n",
    "        if k==ord('q'):\n",
    "            break\n",
    "    while True:\n",
    "        cv2.putText(img,str(color_pred),(100,100),cv2.FONT_HERSHEY_SIMPLEX,1,(0,0,0),3)\n",
    "        cv2.imshow('Color',img)\n",
    "        k=cv2.waitKey(1)\n",
    "        if k==ord('q'):\n",
    "            break\n",
    "    cv2.destroyAllWindows()"
   ]
  },
  {
   "cell_type": "code",
   "execution_count": 10,
   "metadata": {},
   "outputs": [],
   "source": [
    "def video():\n",
    "    def draw_rectangle(event,x,y,flags,param):\n",
    "        nonlocal pt1,topLeft_clicked\n",
    "        if event == cv2.EVENT_LBUTTONDOWN:\n",
    "            if topLeft_clicked==True:\n",
    "                topLeft_clicked=False\n",
    "                pt1=(0,0)\n",
    "            else:\n",
    "                topLeft_clicked=True\n",
    "                pt1=(x,y)\n",
    "\n",
    "    pt1 = (0,0)\n",
    "    cap=cv2.VideoCapture(0)\n",
    "    topLeft_clicked = False\n",
    "    cv2.namedWindow('Color')\n",
    "    cv2.setMouseCallback('Color',draw_rectangle)\n",
    "    x,y=pt1\n",
    "    while True:\n",
    "        ret,frame=cap.read()\n",
    "        copy=frame.copy()\n",
    "        if topLeft_clicked:\n",
    "            cv2.circle(copy,pt1,8,(0,0,0),-1)\n",
    "        old=cv2.cvtColor(frame,cv2.COLOR_BGR2RGB)\n",
    "        r,g,b=old[pt1[::-1]]\n",
    "        color_pred=color(r,g,b)   \n",
    "        cv2.imshow('Color',copy)\n",
    "        k=cv2.waitKey(1)\n",
    "        if k==ord('q'):\n",
    "            break\n",
    "    while True:\n",
    "        cv2.putText(frame,str(color_pred),(100,100),cv2.FONT_HERSHEY_SIMPLEX,1,(0,0,0),3)\n",
    "        cv2.imshow('Color',frame)\n",
    "        k=cv2.waitKey(1)\n",
    "        if k==ord('q'):\n",
    "            break\n",
    "    cv2.destroyAllWindows()"
   ]
  },
  {
   "cell_type": "code",
   "execution_count": 15,
   "metadata": {},
   "outputs": [
    {
     "output_type": "stream",
     "name": "stdout",
     "text": "If you want to test an Image enter 1 . If video enter 2\n"
    }
   ],
   "source": [
    "print('If you want to test an Image enter 1 . If video enter 2')\n",
    "c=int(input())\n",
    "if c==1:\n",
    "    image()\n",
    "elif c==2:\n",
    "    video()\n",
    "else:\n",
    "    print('Wrong choice')"
   ]
  },
  {
   "cell_type": "code",
   "execution_count": null,
   "metadata": {},
   "outputs": [],
   "source": []
  }
 ],
 "metadata": {
  "language_info": {
   "codemirror_mode": {
    "name": "ipython",
    "version": 3
   },
   "file_extension": ".py",
   "mimetype": "text/x-python",
   "name": "python",
   "nbconvert_exporter": "python",
   "pygments_lexer": "ipython3",
   "version": "3.7.3-final"
  },
  "orig_nbformat": 2,
  "kernelspec": {
   "name": "python3",
   "display_name": "Python 3"
  }
 },
 "nbformat": 4,
 "nbformat_minor": 2
}